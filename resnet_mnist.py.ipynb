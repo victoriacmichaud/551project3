{
 "cells": [
  {
   "cell_type": "markdown",
   "metadata": {},
   "source": [
    "# ResNet For Greyscale Images\n",
    "\n",
    "I used [this blog post](https://zablo.net/blog/post/using-resnet-for-mnist-in-pytorch-tutorial) as a guide.\n",
    "\n",
    "The `resnet_mnist.py` script pulls functions and classes from the local scripts `util.py` (contains torch DataLoader classes/code and some helper functions) and `MnistResNet.py`(the modified ResNet class)\n",
    "\n",
    "The warnings I'm ignoring are of the type `UndefinedMetricWarning: F-score is ill-defined and being set to 0.0 in labels with no predicted samples`. \n",
    "See [here](# https://stackoverflow.com/questions/43162506/undefinedmetricwarning-f-score-is-ill-defined-and-being-set-to-0-0-in-labels-wi) for an explanation."
   ]
  },
  {
   "cell_type": "code",
   "execution_count": 1,
   "metadata": {
    "ExecuteTime": {
     "end_time": "2019-03-17T21:35:39.125902Z",
     "start_time": "2019-03-17T21:30:54.373506Z"
    }
   },
   "outputs": [
    {
     "data": {
      "application/vnd.jupyter.widget-view+json": {
       "model_id": "42a1a4d076a54201b97f81f68f766cf3",
       "version_major": 2,
       "version_minor": 0
      },
      "text/plain": [
       "HBox(children=(IntProgress(value=0, description='Loss: ', max=64, style=ProgressStyle(description_width='initi…"
      ]
     },
     "metadata": {},
     "output_type": "display_data"
    },
    {
     "name": "stdout",
     "output_type": "stream",
     "text": [
      "\n",
      "Epoch 1/20, training loss: 2.241005200892687, validation loss: 2.2779159545898438\n",
      "\t     precision: 0.1342\n",
      "\t        recall: 0.1606\n",
      "\t            F1: 0.0927\n",
      "\t      accuracy: 0.1573\n"
     ]
    },
    {
     "data": {
      "application/vnd.jupyter.widget-view+json": {
       "model_id": "15de335ffc6549288493f906bebf99fe",
       "version_major": 2,
       "version_minor": 0
      },
      "text/plain": [
       "HBox(children=(IntProgress(value=0, description='Loss: ', max=64, style=ProgressStyle(description_width='initi…"
      ]
     },
     "metadata": {},
     "output_type": "display_data"
    },
    {
     "name": "stdout",
     "output_type": "stream",
     "text": [
      "\n",
      "Epoch 2/20, training loss: 2.09476587921381, validation loss: 2.2530336380004883\n",
      "\t     precision: 0.1355\n",
      "\t        recall: 0.2007\n",
      "\t            F1: 0.1083\n",
      "\t      accuracy: 0.2025\n"
     ]
    },
    {
     "data": {
      "application/vnd.jupyter.widget-view+json": {
       "model_id": "e32fcb83f0c2424b9311a59ba8daee26",
       "version_major": 2,
       "version_minor": 0
      },
      "text/plain": [
       "HBox(children=(IntProgress(value=0, description='Loss: ', max=64, style=ProgressStyle(description_width='initi…"
      ]
     },
     "metadata": {},
     "output_type": "display_data"
    },
    {
     "name": "stdout",
     "output_type": "stream",
     "text": [
      "\n",
      "Epoch 3/20, training loss: 1.966054830700159, validation loss: 2.1225342750549316\n",
      "\t     precision: 0.3367\n",
      "\t        recall: 0.3227\n",
      "\t            F1: 0.2644\n",
      "\t      accuracy: 0.3305\n"
     ]
    },
    {
     "data": {
      "application/vnd.jupyter.widget-view+json": {
       "model_id": "d0c998bedf484662b1adac54733d167f",
       "version_major": 2,
       "version_minor": 0
      },
      "text/plain": [
       "HBox(children=(IntProgress(value=0, description='Loss: ', max=64, style=ProgressStyle(description_width='initi…"
      ]
     },
     "metadata": {},
     "output_type": "display_data"
    },
    {
     "name": "stdout",
     "output_type": "stream",
     "text": [
      "\n",
      "Epoch 4/20, training loss: 1.8362649995833635, validation loss: 1.971631646156311\n",
      "\t     precision: 0.5832\n",
      "\t        recall: 0.4830\n",
      "\t            F1: 0.4629\n",
      "\t      accuracy: 0.4891\n"
     ]
    },
    {
     "data": {
      "application/vnd.jupyter.widget-view+json": {
       "model_id": "505bbf612aab46409d4300ba448634ce",
       "version_major": 2,
       "version_minor": 0
      },
      "text/plain": [
       "HBox(children=(IntProgress(value=0, description='Loss: ', max=64, style=ProgressStyle(description_width='initi…"
      ]
     },
     "metadata": {},
     "output_type": "display_data"
    },
    {
     "name": "stdout",
     "output_type": "stream",
     "text": [
      "\n",
      "Epoch 5/20, training loss: 1.751022033393383, validation loss: 1.8996397256851196\n",
      "\t     precision: 0.5371\n",
      "\t        recall: 0.5564\n",
      "\t            F1: 0.4948\n",
      "\t      accuracy: 0.5607\n"
     ]
    },
    {
     "data": {
      "application/vnd.jupyter.widget-view+json": {
       "model_id": "1504c6fd4cfc420da7629a083d0ed401",
       "version_major": 2,
       "version_minor": 0
      },
      "text/plain": [
       "HBox(children=(IntProgress(value=0, description='Loss: ', max=64, style=ProgressStyle(description_width='initi…"
      ]
     },
     "metadata": {},
     "output_type": "display_data"
    },
    {
     "name": "stdout",
     "output_type": "stream",
     "text": [
      "\n",
      "Epoch 6/20, training loss: 1.7013735231012106, validation loss: 1.8926124572753906\n",
      "\t     precision: 0.6436\n",
      "\t        recall: 0.5599\n",
      "\t            F1: 0.5385\n",
      "\t      accuracy: 0.5654\n"
     ]
    },
    {
     "data": {
      "application/vnd.jupyter.widget-view+json": {
       "model_id": "8592c1c0d745411487bffacb1d4bd5e4",
       "version_major": 2,
       "version_minor": 0
      },
      "text/plain": [
       "HBox(children=(IntProgress(value=0, description='Loss: ', max=64, style=ProgressStyle(description_width='initi…"
      ]
     },
     "metadata": {},
     "output_type": "display_data"
    },
    {
     "name": "stdout",
     "output_type": "stream",
     "text": [
      "\n",
      "Epoch 7/20, training loss: 1.6724506113678217, validation loss: 1.873325228691101\n",
      "\t     precision: 0.5987\n",
      "\t        recall: 0.5741\n",
      "\t            F1: 0.5273\n",
      "\t      accuracy: 0.5855\n"
     ]
    },
    {
     "data": {
      "application/vnd.jupyter.widget-view+json": {
       "model_id": "c2fee61403fc4bdb936d048da32526fd",
       "version_major": 2,
       "version_minor": 0
      },
      "text/plain": [
       "HBox(children=(IntProgress(value=0, description='Loss: ', max=64, style=ProgressStyle(description_width='initi…"
      ]
     },
     "metadata": {},
     "output_type": "display_data"
    },
    {
     "name": "stdout",
     "output_type": "stream",
     "text": [
      "\n",
      "Epoch 8/20, training loss: 1.6537961214780807, validation loss: 1.7613826990127563\n",
      "\t     precision: 0.6863\n",
      "\t        recall: 0.6925\n",
      "\t            F1: 0.6515\n",
      "\t      accuracy: 0.6997\n"
     ]
    },
    {
     "data": {
      "application/vnd.jupyter.widget-view+json": {
       "model_id": "1318a61d73504b0f96bb06094bf8f883",
       "version_major": 2,
       "version_minor": 0
      },
      "text/plain": [
       "HBox(children=(IntProgress(value=0, description='Loss: ', max=64, style=ProgressStyle(description_width='initi…"
      ]
     },
     "metadata": {},
     "output_type": "display_data"
    },
    {
     "name": "stdout",
     "output_type": "stream",
     "text": [
      "\n",
      "Epoch 9/20, training loss: 1.6280407942831516, validation loss: 1.774071216583252\n",
      "\t     precision: 0.7462\n",
      "\t        recall: 0.6831\n",
      "\t            F1: 0.6721\n",
      "\t      accuracy: 0.6870\n"
     ]
    },
    {
     "data": {
      "application/vnd.jupyter.widget-view+json": {
       "model_id": "5ddff71426d941ca91cc48c70c2832f5",
       "version_major": 2,
       "version_minor": 0
      },
      "text/plain": [
       "HBox(children=(IntProgress(value=0, description='Loss: ', max=64, style=ProgressStyle(description_width='initi…"
      ]
     },
     "metadata": {},
     "output_type": "display_data"
    },
    {
     "name": "stdout",
     "output_type": "stream",
     "text": [
      "\n",
      "Epoch 10/20, training loss: 1.5921822916716337, validation loss: 1.7049269676208496\n",
      "\t     precision: 0.8019\n",
      "\t        recall: 0.7528\n",
      "\t            F1: 0.7359\n",
      "\t      accuracy: 0.7556\n"
     ]
    },
    {
     "data": {
      "application/vnd.jupyter.widget-view+json": {
       "model_id": "04eeb9851b6c4a138b06e6ffe07d9c4d",
       "version_major": 2,
       "version_minor": 0
      },
      "text/plain": [
       "HBox(children=(IntProgress(value=0, description='Loss: ', max=64, style=ProgressStyle(description_width='initi…"
      ]
     },
     "metadata": {},
     "output_type": "display_data"
    },
    {
     "name": "stdout",
     "output_type": "stream",
     "text": [
      "\n",
      "Epoch 11/20, training loss: 1.5627293549478054, validation loss: 1.6845183372497559\n",
      "\t     precision: 0.8074\n",
      "\t        recall: 0.7788\n",
      "\t            F1: 0.7593\n",
      "\t      accuracy: 0.7782\n"
     ]
    },
    {
     "data": {
      "application/vnd.jupyter.widget-view+json": {
       "model_id": "f866b02f730f417da34ff1988b07c355",
       "version_major": 2,
       "version_minor": 0
      },
      "text/plain": [
       "HBox(children=(IntProgress(value=0, description='Loss: ', max=64, style=ProgressStyle(description_width='initi…"
      ]
     },
     "metadata": {},
     "output_type": "display_data"
    },
    {
     "name": "stdout",
     "output_type": "stream",
     "text": [
      "\n",
      "Epoch 12/20, training loss: 1.548636319115758, validation loss: 1.8032238483428955\n",
      "\t     precision: 0.7236\n",
      "\t        recall: 0.6612\n",
      "\t            F1: 0.6320\n",
      "\t      accuracy: 0.6575\n"
     ]
    },
    {
     "data": {
      "application/vnd.jupyter.widget-view+json": {
       "model_id": "48f153aa9b2e41a6955c19e603f60fc9",
       "version_major": 2,
       "version_minor": 0
      },
      "text/plain": [
       "HBox(children=(IntProgress(value=0, description='Loss: ', max=64, style=ProgressStyle(description_width='initi…"
      ]
     },
     "metadata": {},
     "output_type": "display_data"
    },
    {
     "name": "stdout",
     "output_type": "stream",
     "text": [
      "\n",
      "Epoch 13/20, training loss: 1.5358218774199486, validation loss: 1.6917515993118286\n",
      "\t     precision: 0.8323\n",
      "\t        recall: 0.7691\n",
      "\t            F1: 0.7623\n",
      "\t      accuracy: 0.7694\n"
     ]
    },
    {
     "data": {
      "application/vnd.jupyter.widget-view+json": {
       "model_id": "eca09be1fe3d4dccbdb2e3498d5a0913",
       "version_major": 2,
       "version_minor": 0
      },
      "text/plain": [
       "HBox(children=(IntProgress(value=0, description='Loss: ', max=64, style=ProgressStyle(description_width='initi…"
      ]
     },
     "metadata": {},
     "output_type": "display_data"
    },
    {
     "name": "stdout",
     "output_type": "stream",
     "text": [
      "\n",
      "Epoch 14/20, training loss: 1.5279225632548332, validation loss: 1.7890182733535767\n",
      "\t     precision: 0.7767\n",
      "\t        recall: 0.6673\n",
      "\t            F1: 0.6585\n",
      "\t      accuracy: 0.6695\n"
     ]
    },
    {
     "data": {
      "application/vnd.jupyter.widget-view+json": {
       "model_id": "763ed836917a4d369f96af7ea0225ba2",
       "version_major": 2,
       "version_minor": 0
      },
      "text/plain": [
       "HBox(children=(IntProgress(value=0, description='Loss: ', max=64, style=ProgressStyle(description_width='initi…"
      ]
     },
     "metadata": {},
     "output_type": "display_data"
    },
    {
     "name": "stdout",
     "output_type": "stream",
     "text": [
      "\n",
      "Epoch 15/20, training loss: 1.5208123121410608, validation loss: 1.7175074815750122\n",
      "\t     precision: 0.8294\n",
      "\t        recall: 0.7422\n",
      "\t            F1: 0.7341\n",
      "\t      accuracy: 0.7431\n"
     ]
    },
    {
     "data": {
      "application/vnd.jupyter.widget-view+json": {
       "model_id": "b68d705026504faf9e24847e4f55d60a",
       "version_major": 2,
       "version_minor": 0
      },
      "text/plain": [
       "HBox(children=(IntProgress(value=0, description='Loss: ', max=64, style=ProgressStyle(description_width='initi…"
      ]
     },
     "metadata": {},
     "output_type": "display_data"
    },
    {
     "name": "stdout",
     "output_type": "stream",
     "text": [
      "\n",
      "Epoch 16/20, training loss: 1.5168156120926142, validation loss: 1.6935842037200928\n",
      "\t     precision: 0.8104\n",
      "\t        recall: 0.7660\n",
      "\t            F1: 0.7446\n",
      "\t      accuracy: 0.7666\n"
     ]
    },
    {
     "data": {
      "application/vnd.jupyter.widget-view+json": {
       "model_id": "097dde755aed4276ba80e3da2153a2b2",
       "version_major": 2,
       "version_minor": 0
      },
      "text/plain": [
       "HBox(children=(IntProgress(value=0, description='Loss: ', max=64, style=ProgressStyle(description_width='initi…"
      ]
     },
     "metadata": {},
     "output_type": "display_data"
    },
    {
     "name": "stdout",
     "output_type": "stream",
     "text": [
      "\n",
      "Epoch 17/20, training loss: 1.5120012760162354, validation loss: 1.646281123161316\n",
      "\t     precision: 0.8449\n",
      "\t        recall: 0.8153\n",
      "\t            F1: 0.8005\n",
      "\t      accuracy: 0.8147\n"
     ]
    },
    {
     "data": {
      "application/vnd.jupyter.widget-view+json": {
       "model_id": "81da48530dcb4c0c85e8b36fd48b8eca",
       "version_major": 2,
       "version_minor": 0
      },
      "text/plain": [
       "HBox(children=(IntProgress(value=0, description='Loss: ', max=64, style=ProgressStyle(description_width='initi…"
      ]
     },
     "metadata": {},
     "output_type": "display_data"
    },
    {
     "name": "stdout",
     "output_type": "stream",
     "text": [
      "\n",
      "Epoch 18/20, training loss: 1.5074704959988594, validation loss: 1.627843976020813\n",
      "\t     precision: 0.8584\n",
      "\t        recall: 0.8326\n",
      "\t            F1: 0.8215\n",
      "\t      accuracy: 0.8339\n"
     ]
    },
    {
     "data": {
      "application/vnd.jupyter.widget-view+json": {
       "model_id": "5823844e141941c2969ed257f33dc781",
       "version_major": 2,
       "version_minor": 0
      },
      "text/plain": [
       "HBox(children=(IntProgress(value=0, description='Loss: ', max=64, style=ProgressStyle(description_width='initi…"
      ]
     },
     "metadata": {},
     "output_type": "display_data"
    },
    {
     "name": "stdout",
     "output_type": "stream",
     "text": [
      "\n",
      "Epoch 19/20, training loss: 1.5025779381394386, validation loss: 1.6532107591629028\n",
      "\t     precision: 0.8548\n",
      "\t        recall: 0.8053\n",
      "\t            F1: 0.7988\n",
      "\t      accuracy: 0.8071\n"
     ]
    },
    {
     "data": {
      "application/vnd.jupyter.widget-view+json": {
       "model_id": "834cc69388734d1199597dbd1c175c52",
       "version_major": 2,
       "version_minor": 0
      },
      "text/plain": [
       "HBox(children=(IntProgress(value=0, description='Loss: ', max=64, style=ProgressStyle(description_width='initi…"
      ]
     },
     "metadata": {},
     "output_type": "display_data"
    },
    {
     "name": "stdout",
     "output_type": "stream",
     "text": [
      "\n",
      "Epoch 20/20, training loss: 1.4984664488583803, validation loss: 1.5885978937149048\n",
      "\t     precision: 0.8853\n",
      "\t        recall: 0.8717\n",
      "\t            F1: 0.8627\n",
      "\t      accuracy: 0.8711\n",
      "Training time: 283.8797695636749s\n"
     ]
    },
    {
     "data": {
      "text/plain": [
       "<Figure size 640x480 with 1 Axes>"
      ]
     },
     "metadata": {},
     "output_type": "display_data"
    }
   ],
   "source": [
    "import warnings\n",
    "warnings.filterwarnings('ignore') \n",
    "%matplotlib inline\n",
    "\n",
    "%run resnet_mnist.py --epochs 20 --plot"
   ]
  },
  {
   "cell_type": "code",
   "execution_count": 2,
   "metadata": {
    "ExecuteTime": {
     "end_time": "2019-03-17T21:38:44.637075Z",
     "start_time": "2019-03-17T21:38:15.771181Z"
    }
   },
   "outputs": [
    {
     "data": {
      "application/vnd.jupyter.widget-view+json": {
       "model_id": "53306eecd11749fdb2d4b70946ee0465",
       "version_major": 2,
       "version_minor": 0
      },
      "text/plain": [
       "HBox(children=(IntProgress(value=0, description='Loss: ', max=64, style=ProgressStyle(description_width='initi…"
      ]
     },
     "metadata": {},
     "output_type": "display_data"
    },
    {
     "name": "stdout",
     "output_type": "stream",
     "text": [
      "\n",
      "Epoch 1/2, training loss: 2.2407195419073105, validation loss: 2.2776899337768555\n",
      "\t     precision: 0.1120\n",
      "\t        recall: 0.1586\n",
      "\t            F1: 0.0870\n",
      "\t      accuracy: 0.1586\n"
     ]
    },
    {
     "data": {
      "application/vnd.jupyter.widget-view+json": {
       "model_id": "94e15150593b448c8a1a6c39a3813048",
       "version_major": 2,
       "version_minor": 0
      },
      "text/plain": [
       "HBox(children=(IntProgress(value=0, description='Loss: ', max=64, style=ProgressStyle(description_width='initi…"
      ]
     },
     "metadata": {},
     "output_type": "display_data"
    },
    {
     "name": "stdout",
     "output_type": "stream",
     "text": [
      "\n",
      "Epoch 2/2, training loss: 2.0952105708420277, validation loss: 2.2093253135681152\n",
      "\t     precision: 0.2190\n",
      "\t        recall: 0.2370\n",
      "\t            F1: 0.1660\n",
      "\t      accuracy: 0.2399\n",
      "Training time: 28.770711183547974s\n"
     ]
    },
    {
     "data": {
      "image/png": "[encoded data removed]",
      "text/plain": [
       "<Figure size 432x288 with 1 Axes>"
      ]
     },
     "metadata": {
      "needs_background": "light"
     },
     "output_type": "display_data"
    }
   ],
   "source": [
    "# Try again and hopefully the plot will show\n",
    "%matplotlib inline\n",
    "%run resnet_mnist.py --epochs 2 --plot"
   ]
  }
 ],
 "metadata": {
  "kernelspec": {
   "display_name": "Python 3",
   "language": "python",
   "name": "python3"
  },
  "language_info": {
   "codemirror_mode": {
    "name": "ipython",
    "version": 3
   },
   "file_extension": ".py",
   "mimetype": "text/x-python",
   "name": "python",
   "nbconvert_exporter": "python",
   "pygments_lexer": "ipython3",
   "version": "3.6.5"
  },
  "toc": {
   "base_numbering": 1,
   "nav_menu": {},
   "number_sections": true,
   "sideBar": false,
   "skip_h1_title": false,
   "title_cell": "Table of Contents",
   "title_sidebar": "Contents",
   "toc_cell": false,
   "toc_position": {},
   "toc_section_display": true,
   "toc_window_display": false
  }
 },
 "nbformat": 4,
 "nbformat_minor": 2
}
